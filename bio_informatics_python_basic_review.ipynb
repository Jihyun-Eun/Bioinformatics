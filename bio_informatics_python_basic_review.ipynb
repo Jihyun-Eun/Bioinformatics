{
  "nbformat": 4,
  "nbformat_minor": 0,
  "metadata": {
    "colab": {
      "provenance": [],
      "authorship_tag": "ABX9TyOd+nVp81MfPwbi/LGF37Qt",
      "include_colab_link": true
    },
    "kernelspec": {
      "name": "python3",
      "display_name": "Python 3"
    },
    "language_info": {
      "name": "python"
    }
  },
  "cells": [
    {
      "cell_type": "markdown",
      "metadata": {
        "id": "view-in-github",
        "colab_type": "text"
      },
      "source": [
        "<a href=\"https://colab.research.google.com/github/Jihyun-Eun/bioinformatics/blob/main/bio_informatics_python_basic_review.ipynb\" target=\"_parent\"><img src=\"https://colab.research.google.com/assets/colab-badge.svg\" alt=\"Open In Colab\"/></a>"
      ]
    },
    {
      "cell_type": "markdown",
      "source": [
        "#Python 기초 문법 복습\n"
      ],
      "metadata": {
        "id": "VNWwqn9-eh3Q"
      }
    },
    {
      "cell_type": "code",
      "execution_count": 17,
      "metadata": {
        "id": "BWGWtb0ZyS1I",
        "colab": {
          "base_uri": "https://localhost:8080/"
        },
        "outputId": "7bce964b-b0dc-48fe-9fc5-8e8843465273"
      },
      "outputs": [
        {
          "output_type": "stream",
          "name": "stdout",
          "text": [
            "이름 : 은지현, 20 python 5.100000 True\n",
            "이름 : 은지현 나이 : 20 과목 : python\n",
            "이름 : 은지현 나이 : 20 과목 : python\n"
          ]
        }
      ],
      "source": [
        "#형식을 갖춘 문자열\n",
        "\n",
        "name = \"은지현\"\n",
        "subject = \"python\"\n",
        "age = 20\n",
        "\n",
        "\n",
        "print(\"이름 : %s, %d %s %f %s\" %(name, age, subject, 5.1, True))\n",
        "print(\"이름 : {} 나이 : {} 과목 : {}\".format(name, age, subject))\n",
        "print(f\"이름 : {name} 나이 : {age} 과목 : {subject}\")\n",
        ""
      ]
    },
    {
      "cell_type": "code",
      "source": [
        "#li 빈리스트 만들고 반복문을 이용하여 빈 리스트에 1부터 10까지 값을 추가하고 출력\n",
        "li = []\n",
        "\n",
        "#1부터 10까지 값 출력(반복문 이용)\n",
        "for i in range(1, 11):\n",
        "    li.append(i)\n",
        "print(li)\n",
        "\n",
        "#리스트 컴프리 헨션\n",
        "li1 = [i for i in range(1, 11) if i % 2 == 0]\n",
        "print(li1)"
      ],
      "metadata": {
        "colab": {
          "base_uri": "https://localhost:8080/"
        },
        "id": "3mxEHjtWeVic",
        "outputId": "d234a1fd-d34b-4a33-a0ea-4b7856aec95f"
      },
      "execution_count": 18,
      "outputs": [
        {
          "output_type": "stream",
          "name": "stdout",
          "text": [
            "[1, 2, 3, 4, 5, 6, 7, 8, 9, 10]\n",
            "[2, 4, 6, 8, 10]\n"
          ]
        }
      ]
    },
    {
      "cell_type": "code",
      "source": [
        "#1. 5개의 숫자를 입력받아 리스트에 저장한 후 입력된 반대 순서대로 출력하기\n",
        "#리스트 메소드 reverse\n",
        "#출력결과 리스트타입\n",
        "li1 = []\n",
        "for i in range(3):\n",
        "    number = int(input(\"숫자입력 : \"))\n",
        "    li1.append(number)\n",
        "\n",
        "# li1.sort() #오름차순정렬\n",
        "# li1.sort(reverse = True) #내림차순정렬\n",
        "li1.reverse() #정렬아님, 입력된 반대순서대로 출력\n",
        "print(li1)"
      ],
      "metadata": {
        "colab": {
          "base_uri": "https://localhost:8080/"
        },
        "id": "nq4ZszRkeZ2z",
        "outputId": "cf03cd15-53c7-4d6a-c557-e5d9889097a3"
      },
      "execution_count": 19,
      "outputs": [
        {
          "output_type": "stream",
          "name": "stdout",
          "text": [
            "숫자입력 : 1\n",
            "숫자입력 : 2\n",
            "숫자입력 : 3\n",
            "[3, 2, 1]\n"
          ]
        }
      ]
    },
    {
      "cell_type": "code",
      "source": [],
      "metadata": {
        "id": "tURctQjNegr1"
      },
      "execution_count": null,
      "outputs": []
    }
  ]
}