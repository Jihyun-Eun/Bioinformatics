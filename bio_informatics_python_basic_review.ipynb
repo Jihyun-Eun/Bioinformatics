{
  "nbformat": 4,
  "nbformat_minor": 0,
  "metadata": {
    "colab": {
      "provenance": [],
      "authorship_tag": "ABX9TyNHwxUSEPnC+Flj1lCBidaZ",
      "include_colab_link": true
    },
    "kernelspec": {
      "name": "python3",
      "display_name": "Python 3"
    },
    "language_info": {
      "name": "python"
    }
  },
  "cells": [
    {
      "cell_type": "markdown",
      "metadata": {
        "id": "view-in-github",
        "colab_type": "text"
      },
      "source": [
        "<a href=\"https://colab.research.google.com/github/Jihyun-Eun/bioinformatics/blob/main/bio_informatics_python_basic_review.ipynb\" target=\"_parent\"><img src=\"https://colab.research.google.com/assets/colab-badge.svg\" alt=\"Open In Colab\"/></a>"
      ]
    },
    {
      "cell_type": "markdown",
      "source": [
        "#Python 기초 문법 복습\n"
      ],
      "metadata": {
        "id": "VNWwqn9-eh3Q"
      }
    },
    {
      "cell_type": "code",
      "execution_count": 17,
      "metadata": {
        "id": "BWGWtb0ZyS1I",
        "colab": {
          "base_uri": "https://localhost:8080/"
        },
        "outputId": "7bce964b-b0dc-48fe-9fc5-8e8843465273"
      },
      "outputs": [
        {
          "output_type": "stream",
          "name": "stdout",
          "text": [
            "이름 : 은지현, 20 python 5.100000 True\n",
            "이름 : 은지현 나이 : 20 과목 : python\n",
            "이름 : 은지현 나이 : 20 과목 : python\n"
          ]
        }
      ],
      "source": [
        "#형식을 갖춘 문자열\n",
        "\n",
        "name = \"은지현\"\n",
        "subject = \"python\"\n",
        "age = 20\n",
        "\n",
        "\n",
        "print(\"이름 : %s, %d %s %f %s\" %(name, age, subject, 5.1, True))\n",
        "print(\"이름 : {} 나이 : {} 과목 : {}\".format(name, age, subject))\n",
        "print(f\"이름 : {name} 나이 : {age} 과목 : {subject}\")\n",
        ""
      ]
    },
    {
      "cell_type": "code",
      "source": [
        "#li 빈리스트 만들고 반복문을 이용하여 빈 리스트에 1부터 10까지 값을 추가하고 출력\n",
        "li = []\n",
        "\n",
        "#1부터 10까지 값 출력(반복문 이용)\n",
        "for i in range(1, 11):\n",
        "    li.append(i)\n",
        "print(li)\n",
        "\n",
        "#리스트 컴프리 헨션\n",
        "li1 = [i for i in range(1, 11) if i % 2 == 0]\n",
        "print(li1)"
      ],
      "metadata": {
        "colab": {
          "base_uri": "https://localhost:8080/"
        },
        "id": "3mxEHjtWeVic",
        "outputId": "d234a1fd-d34b-4a33-a0ea-4b7856aec95f"
      },
      "execution_count": 18,
      "outputs": [
        {
          "output_type": "stream",
          "name": "stdout",
          "text": [
            "[1, 2, 3, 4, 5, 6, 7, 8, 9, 10]\n",
            "[2, 4, 6, 8, 10]\n"
          ]
        }
      ]
    },
    {
      "cell_type": "code",
      "source": [
        "#1. 5개의 숫자를 입력받아 리스트에 저장한 후 입력된 반대 순서대로 출력하기\n",
        "#리스트 메소드 reverse\n",
        "#출력결과 리스트타입\n",
        "li1 = []\n",
        "for i in range(3):\n",
        "    number = int(input(\"숫자입력 : \"))\n",
        "    li1.append(number)\n",
        "\n",
        "# li1.sort() #오름차순정렬\n",
        "# li1.sort(reverse = True) #내림차순정렬\n",
        "li1.reverse() #정렬아님, 입력된 반대순서대로 출력\n",
        "print(li1)"
      ],
      "metadata": {
        "colab": {
          "base_uri": "https://localhost:8080/"
        },
        "id": "nq4ZszRkeZ2z",
        "outputId": "cf03cd15-53c7-4d6a-c557-e5d9889097a3"
      },
      "execution_count": 19,
      "outputs": [
        {
          "output_type": "stream",
          "name": "stdout",
          "text": [
            "숫자입력 : 1\n",
            "숫자입력 : 2\n",
            "숫자입력 : 3\n",
            "[3, 2, 1]\n"
          ]
        }
      ]
    },
    {
      "cell_type": "code",
      "source": [
        "#2. \"Life is too short\" 문자열에서 short -> long으로 변경후 출력\n",
        "str1 = \"Life is too short\"\n",
        "str1 = str1.replace(\"short\", \"long\")\n",
        "print(str1)\n",
        "\n",
        "# str1.split()\n",
        "# str1.strip()"
      ],
      "metadata": {
        "colab": {
          "base_uri": "https://localhost:8080/"
        },
        "id": "tURctQjNegr1",
        "outputId": "76b46ac5-044e-445b-b0e0-d615f860fb88"
      },
      "execution_count": 20,
      "outputs": [
        {
          "output_type": "stream",
          "name": "stdout",
          "text": [
            "Life is too long\n"
          ]
        }
      ]
    },
    {
      "cell_type": "code",
      "source": [
        "#3. fruits 객체의 리스트에 과일이름 3개를 입력받아서 해당 리스트에 있는 값 출력\n",
        "    # 중복된 값은 저장되지 않도록하기\n",
        "\n",
        "fruits = []\n",
        "for i in range(3):\n",
        "    fruit = input(\"과일입력 : \")\n",
        "    if fruit not in fruits:\n",
        "        fruits.append(fruit)\n",
        "\n",
        "print(fruits)"
      ],
      "metadata": {
        "id": "rBMXIY9zfIwB"
      },
      "execution_count": null,
      "outputs": []
    },
    {
      "cell_type": "code",
      "source": [
        "li2 = []\n",
        "while len(li2) < 3:\n",
        "    fruit = input(\"과일 입력 : \")\n",
        "    if fruit not in li2:\n",
        "        li2.append(fruit)\n",
        "\n",
        "print(li2)"
      ],
      "metadata": {
        "id": "erFPqqyUfxVv"
      },
      "execution_count": null,
      "outputs": []
    },
    {
      "cell_type": "code",
      "source": [
        "import matplotlib.pyplot as plt\n",
        "\n",
        "plt.plot([1, 2, 3, 4]) #y 값 x축은 [0, 1, 2, 3] 자동으로 만들어냄\n",
        "plt.show()\n"
      ],
      "metadata": {
        "colab": {
          "base_uri": "https://localhost:8080/",
          "height": 430
        },
        "id": "ZTzI9kJ4fzuH",
        "outputId": "256dd2da-297b-4cc8-edec-3772557ab9e2"
      },
      "execution_count": 21,
      "outputs": [
        {
          "output_type": "display_data",
          "data": {
            "text/plain": [
              "<Figure size 640x480 with 1 Axes>"
            ],
            "image/png": "[encoded data removed]"
          },
          "metadata": {}
        }
      ]
    },
    {
      "cell_type": "code",
      "source": [
        "#return : 함수 호출 결과, 함수 종료의 의미\n",
        "\n",
        "def hello():\n",
        "    print(\"return 전입니다\")\n",
        "    return\n",
        "    print(\"return 후입니다\")\n",
        "\n",
        "\n",
        "#함수호출\n",
        "hello()"
      ],
      "metadata": {
        "id": "H5dyeL3If20V"
      },
      "execution_count": null,
      "outputs": []
    },
    {
      "cell_type": "code",
      "source": [
        "#다중반환\n",
        "def calc(a, b):\n",
        "    return a+b, a-b, a*b\n",
        "\n",
        "print(calc(10, 5)) #다중반환시에는 튜플형태로 결과값들이 반환됨\n",
        "add, sub, mul = calc(10, 5)\n",
        "print(add)\n",
        "print(sub)\n",
        "print(mul)\n",
        "\n",
        "#튜플 자료형\n",
        "number = 1, 2, 3\n",
        "print(number, type(number)) #튜플의 패킹\n",
        "one, two, three = number    #튜플의 언패킹\n",
        "print(one, two, three, type(one))"
      ],
      "metadata": {
        "colab": {
          "base_uri": "https://localhost:8080/"
        },
        "id": "VTIM7bNif5mB",
        "outputId": "d0d09945-8fe8-44a1-b8ff-7b4d1b15ff0b"
      },
      "execution_count": 22,
      "outputs": [
        {
          "output_type": "stream",
          "name": "stdout",
          "text": [
            "(15, 5, 50)\n",
            "15\n",
            "5\n",
            "50\n",
            "(1, 2, 3) <class 'tuple'>\n",
            "1 2 3 <class 'int'>\n"
          ]
        }
      ]
    },
    {
      "cell_type": "code",
      "source": [
        "f = open('test1.txt', \"x\", encoding = 'utf-8')\n",
        "\n",
        "f.write(\"2023년 7월 15일\\n\")\n",
        "f.write(\"안녕하세요\\n\")\n",
        "f.write(\"12345\")\n",
        "print(\"test.txt 파일이 생성되었습니다\")\n",
        "f.close()"
      ],
      "metadata": {
        "colab": {
          "base_uri": "https://localhost:8080/"
        },
        "id": "t4lsmtn4f66S",
        "outputId": "6548a020-7e43-4d7d-8885-6a097ee308e0"
      },
      "execution_count": 23,
      "outputs": [
        {
          "output_type": "stream",
          "name": "stdout",
          "text": [
            "test.txt 파일이 생성되었습니다\n"
          ]
        }
      ]
    },
    {
      "cell_type": "code",
      "source": [
        "#read(사이즈) : 모든 내용을 다읽어옴\n",
        "#사이즈 지정하면 크기만큼 읽어옴\n",
        "#readline() #한줄을 다 읽음, 파일끝에 도달하면 리턴\n",
        "#readlines(수) #줄단위로 리스트에 저장해서 리턴,\n",
        "#누적으로 읽은 글자수가 수를 넘어가면 종료\n",
        "\n",
        "f = open(\"test.txt\", \"r\")\n",
        "data = f.read()\n",
        "f.close()\n",
        "# print(data)\n",
        "\n",
        "\n",
        "f = open(\"test.txt\", \"r\")\n",
        "line1 = f.readline()\n",
        "line2 = f.readline()\n",
        "lines = f.readlines()\n",
        "f.close()\n",
        "\n",
        "# print(line1, end = '') #readline 읽은 문자열은 개행문자가 포함되어있으므로\n",
        "# #빈문자열을 지정해 줄바꿈이 중복되지 않도록 작성\n",
        "# print(line2, end = '')\n",
        "\n",
        "print(lines)"
      ],
      "metadata": {
        "id": "4XCdecXZf8Zc"
      },
      "execution_count": null,
      "outputs": []
    }
  ]
}